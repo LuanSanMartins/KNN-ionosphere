{
 "cells": [
  {
   "cell_type": "markdown",
   "metadata": {
    "id": "swEu9RH-VjWL"
   },
   "source": [
    "# **Trabalho 2: Aula Assíncrona 18**"
   ]
  },
  {
   "cell_type": "markdown",
   "metadata": {
    "id": "9nM9iY7eCwNu"
   },
   "source": [
    "**Nome:** Luan Carlos Martins dos Santos, 23022464"
   ]
  },
  {
   "cell_type": "markdown",
   "metadata": {
    "id": "1HrXCnNaAaCo"
   },
   "source": [
    "**Questão 1)** Nesta atividade, utilize o k-Nearest Neighbor para verificar o desempenho do algoritmo de acordo com a engenharia de features empregada. Para tal fim, siga os seguintes passos:"
   ]
  },
  {
   "cell_type": "code",
   "execution_count": 1,
   "metadata": {
    "id": "iqXAXeASQvD3"
   },
   "outputs": [],
   "source": [
    "# Importar as Bibliotecas\n",
    "import numpy as np\n",
    "import pandas as pd\n",
    "from sklearn.model_selection import train_test_split, cross_val_score\n",
    "from sklearn.metrics import accuracy_score, precision_score, recall_score, confusion_matrix, ConfusionMatrixDisplay\n",
    "from sklearn.neighbors import KNeighborsClassifier\n",
    "from sklearn.feature_selection import VarianceThreshold\n",
    "import matplotlib.pyplot as plt\n",
    "import warnings\n",
    "from sklearn.decomposition import PCA"
   ]
  },
  {
   "cell_type": "code",
   "execution_count": 2,
   "metadata": {
    "id": "uJK_7tZoSTt-"
   },
   "outputs": [],
   "source": [
    "# Comando para evitar mensagens de \"warning\"\n",
    "warnings.filterwarnings('ignore')\n",
    "\n",
    "# Comando para que os valores de saída do algoritmo seja com dois números significativos\n",
    "pd.set_option('display.float_format',lambda x: '%.2f' % x)"
   ]
  },
  {
   "cell_type": "markdown",
   "metadata": {
    "id": "wDuWBO-EDc9e"
   },
   "source": [
    "**1.** Utilize o dataset ionosphere presente na pasta datasets para realizar uma tarefa de classificação binária."
   ]
  },
  {
   "cell_type": "code",
   "execution_count": 3,
   "metadata": {
    "id": "BZ5B6ZW8R4Gf"
   },
   "outputs": [],
   "source": [
    "# Importar o dataset \n",
    "df = pd.read_csv(\"/content/drive/MyDrive/Residência Tecnológica/ionosphere.data\",header = None)"
   ]
  },
  {
   "cell_type": "code",
   "execution_count": 4,
   "metadata": {
    "id": "l3-NP9wZSZI0"
   },
   "outputs": [],
   "source": [
    "# Substituir \"g\" e \"b\" por 0 e 1, respectivamente\n",
    "df.replace({'g':0, 'b': 1}, inplace=True)"
   ]
  },
  {
   "cell_type": "markdown",
   "metadata": {
    "id": "qPcBUsp4DiCc"
   },
   "source": [
    "**2.** Separe os dados de entrada e saída considerando que a coluna de índice 34 corresponde ao label dos dados de cada linha."
   ]
  },
  {
   "cell_type": "code",
   "execution_count": 5,
   "metadata": {
    "id": "ddGlrrhcSlot"
   },
   "outputs": [],
   "source": [
    "# Separar os atributos previsores\n",
    "X = df.iloc[:,0:-1]\n",
    "\n",
    "# Separar a Variável alvo\n",
    "Y = df.iloc[:,-1]"
   ]
  },
  {
   "cell_type": "markdown",
   "metadata": {
    "id": "lgSX09pLD88V"
   },
   "source": [
    "**3.** Separe os dados em dados de treinamento e teste utilizando a proporção 70% e 30%, respectivamente, e random state = 0."
   ]
  },
  {
   "cell_type": "code",
   "execution_count": 6,
   "metadata": {
    "id": "0iKxu6xxcaWr"
   },
   "outputs": [],
   "source": [
    "# Separar os dados em treinamento e teste\n",
    "X_train, X_test, y_train, y_test = train_test_split(X, Y, test_size = 0.3, random_state = 0)"
   ]
  },
  {
   "cell_type": "markdown",
   "metadata": {
    "id": "lFRgO3ASECf8"
   },
   "source": [
    "**4.** Estabeleça arbitrariamente o número de vizinhos k = 5, inicialmente."
   ]
  },
  {
   "cell_type": "code",
   "execution_count": 7,
   "metadata": {
    "colab": {
     "base_uri": "https://localhost:8080/",
     "height": 75
    },
    "id": "xYMBk2maeM6L",
    "outputId": "21608e40-00b7-47f8-9a0c-404fb2042664"
   },
   "outputs": [
    {
     "data": {
      "text/html": [
       "<style>#sk-container-id-1 {color: black;background-color: white;}#sk-container-id-1 pre{padding: 0;}#sk-container-id-1 div.sk-toggleable {background-color: white;}#sk-container-id-1 label.sk-toggleable__label {cursor: pointer;display: block;width: 100%;margin-bottom: 0;padding: 0.3em;box-sizing: border-box;text-align: center;}#sk-container-id-1 label.sk-toggleable__label-arrow:before {content: \"▸\";float: left;margin-right: 0.25em;color: #696969;}#sk-container-id-1 label.sk-toggleable__label-arrow:hover:before {color: black;}#sk-container-id-1 div.sk-estimator:hover label.sk-toggleable__label-arrow:before {color: black;}#sk-container-id-1 div.sk-toggleable__content {max-height: 0;max-width: 0;overflow: hidden;text-align: left;background-color: #f0f8ff;}#sk-container-id-1 div.sk-toggleable__content pre {margin: 0.2em;color: black;border-radius: 0.25em;background-color: #f0f8ff;}#sk-container-id-1 input.sk-toggleable__control:checked~div.sk-toggleable__content {max-height: 200px;max-width: 100%;overflow: auto;}#sk-container-id-1 input.sk-toggleable__control:checked~label.sk-toggleable__label-arrow:before {content: \"▾\";}#sk-container-id-1 div.sk-estimator input.sk-toggleable__control:checked~label.sk-toggleable__label {background-color: #d4ebff;}#sk-container-id-1 div.sk-label input.sk-toggleable__control:checked~label.sk-toggleable__label {background-color: #d4ebff;}#sk-container-id-1 input.sk-hidden--visually {border: 0;clip: rect(1px 1px 1px 1px);clip: rect(1px, 1px, 1px, 1px);height: 1px;margin: -1px;overflow: hidden;padding: 0;position: absolute;width: 1px;}#sk-container-id-1 div.sk-estimator {font-family: monospace;background-color: #f0f8ff;border: 1px dotted black;border-radius: 0.25em;box-sizing: border-box;margin-bottom: 0.5em;}#sk-container-id-1 div.sk-estimator:hover {background-color: #d4ebff;}#sk-container-id-1 div.sk-parallel-item::after {content: \"\";width: 100%;border-bottom: 1px solid gray;flex-grow: 1;}#sk-container-id-1 div.sk-label:hover label.sk-toggleable__label {background-color: #d4ebff;}#sk-container-id-1 div.sk-serial::before {content: \"\";position: absolute;border-left: 1px solid gray;box-sizing: border-box;top: 0;bottom: 0;left: 50%;z-index: 0;}#sk-container-id-1 div.sk-serial {display: flex;flex-direction: column;align-items: center;background-color: white;padding-right: 0.2em;padding-left: 0.2em;position: relative;}#sk-container-id-1 div.sk-item {position: relative;z-index: 1;}#sk-container-id-1 div.sk-parallel {display: flex;align-items: stretch;justify-content: center;background-color: white;position: relative;}#sk-container-id-1 div.sk-item::before, #sk-container-id-1 div.sk-parallel-item::before {content: \"\";position: absolute;border-left: 1px solid gray;box-sizing: border-box;top: 0;bottom: 0;left: 50%;z-index: -1;}#sk-container-id-1 div.sk-parallel-item {display: flex;flex-direction: column;z-index: 1;position: relative;background-color: white;}#sk-container-id-1 div.sk-parallel-item:first-child::after {align-self: flex-end;width: 50%;}#sk-container-id-1 div.sk-parallel-item:last-child::after {align-self: flex-start;width: 50%;}#sk-container-id-1 div.sk-parallel-item:only-child::after {width: 0;}#sk-container-id-1 div.sk-dashed-wrapped {border: 1px dashed gray;margin: 0 0.4em 0.5em 0.4em;box-sizing: border-box;padding-bottom: 0.4em;background-color: white;}#sk-container-id-1 div.sk-label label {font-family: monospace;font-weight: bold;display: inline-block;line-height: 1.2em;}#sk-container-id-1 div.sk-label-container {text-align: center;}#sk-container-id-1 div.sk-container {/* jupyter's `normalize.less` sets `[hidden] { display: none; }` but bootstrap.min.css set `[hidden] { display: none !important; }` so we also need the `!important` here to be able to override the default hidden behavior on the sphinx rendered scikit-learn.org. See: https://github.com/scikit-learn/scikit-learn/issues/21755 */display: inline-block !important;position: relative;}#sk-container-id-1 div.sk-text-repr-fallback {display: none;}</style><div id=\"sk-container-id-1\" class=\"sk-top-container\"><div class=\"sk-text-repr-fallback\"><pre>KNeighborsClassifier()</pre><b>In a Jupyter environment, please rerun this cell to show the HTML representation or trust the notebook. <br />On GitHub, the HTML representation is unable to render, please try loading this page with nbviewer.org.</b></div><div class=\"sk-container\" hidden><div class=\"sk-item\"><div class=\"sk-estimator sk-toggleable\"><input class=\"sk-toggleable__control sk-hidden--visually\" id=\"sk-estimator-id-1\" type=\"checkbox\" checked><label for=\"sk-estimator-id-1\" class=\"sk-toggleable__label sk-toggleable__label-arrow\">KNeighborsClassifier</label><div class=\"sk-toggleable__content\"><pre>KNeighborsClassifier()</pre></div></div></div></div></div>"
      ],
      "text/plain": [
       "KNeighborsClassifier()"
      ]
     },
     "execution_count": 7,
     "metadata": {},
     "output_type": "execute_result"
    }
   ],
   "source": [
    "# Definir o número de vizinhos\n",
    "k = 5\n",
    "\n",
    "# Criacao do modelo\n",
    "knn = KNeighborsClassifier(n_neighbors=k)\n",
    "\n",
    "# Treinamento\n",
    "knn.fit(X_train,y_train)"
   ]
  },
  {
   "cell_type": "code",
   "execution_count": 8,
   "metadata": {
    "id": "rWOlpmzleNGS"
   },
   "outputs": [],
   "source": [
    "# Teste\n",
    "y_pred = knn.predict(X_test)"
   ]
  },
  {
   "cell_type": "markdown",
   "metadata": {
    "id": "0saUlkkbEamj"
   },
   "source": [
    "**5.** Realize a classificação e obtenha os seguintes resultados:\n",
    "\n",
    "**(a)** Acurácia.\n",
    "\n",
    "**(b)** Precisão.\n",
    "\n",
    "**(c)** Recall.\n",
    "\n",
    "**(d)** F1-Score.\n",
    "\n",
    "**(e)** Plote a matriz de confusão obtida."
   ]
  },
  {
   "cell_type": "code",
   "execution_count": 9,
   "metadata": {
    "id": "VjKWROAvv_Zo"
   },
   "outputs": [],
   "source": [
    "# Criar um Dataframe para armazenar os valores das métricas\n",
    "df_score = pd.DataFrame(columns=['Metodologia','Acurácia','Precisão','Recall','F1-Score'])"
   ]
  },
  {
   "cell_type": "code",
   "execution_count": 10,
   "metadata": {
    "colab": {
     "base_uri": "https://localhost:8080/",
     "height": 81
    },
    "id": "poxbRWYlFCj-",
    "outputId": "5fa9e918-24cb-4e9a-fb17-4f07d94d35e6"
   },
   "outputs": [
    {
     "data": {
      "text/html": [
       "\n",
       "  <div id=\"df-66ec5d67-7d63-4909-9c70-c7dd2230327c\">\n",
       "    <div class=\"colab-df-container\">\n",
       "      <div>\n",
       "<style scoped>\n",
       "    .dataframe tbody tr th:only-of-type {\n",
       "        vertical-align: middle;\n",
       "    }\n",
       "\n",
       "    .dataframe tbody tr th {\n",
       "        vertical-align: top;\n",
       "    }\n",
       "\n",
       "    .dataframe thead th {\n",
       "        text-align: right;\n",
       "    }\n",
       "</style>\n",
       "<table border=\"1\" class=\"dataframe\">\n",
       "  <thead>\n",
       "    <tr style=\"text-align: right;\">\n",
       "      <th></th>\n",
       "      <th>Metodologia</th>\n",
       "      <th>Acurácia</th>\n",
       "      <th>Precisão</th>\n",
       "      <th>Recall</th>\n",
       "      <th>F1-Score</th>\n",
       "    </tr>\n",
       "  </thead>\n",
       "  <tbody>\n",
       "    <tr>\n",
       "      <th>0</th>\n",
       "      <td>Simples</td>\n",
       "      <td>0.84</td>\n",
       "      <td>0.94</td>\n",
       "      <td>0.66</td>\n",
       "      <td>0.77</td>\n",
       "    </tr>\n",
       "  </tbody>\n",
       "</table>\n",
       "</div>\n",
       "      <button class=\"colab-df-convert\" onclick=\"convertToInteractive('df-66ec5d67-7d63-4909-9c70-c7dd2230327c')\"\n",
       "              title=\"Convert this dataframe to an interactive table.\"\n",
       "              style=\"display:none;\">\n",
       "        \n",
       "  <svg xmlns=\"http://www.w3.org/2000/svg\" height=\"24px\"viewBox=\"0 0 24 24\"\n",
       "       width=\"24px\">\n",
       "    <path d=\"M0 0h24v24H0V0z\" fill=\"none\"/>\n",
       "    <path d=\"M18.56 5.44l.94 2.06.94-2.06 2.06-.94-2.06-.94-.94-2.06-.94 2.06-2.06.94zm-11 1L8.5 8.5l.94-2.06 2.06-.94-2.06-.94L8.5 2.5l-.94 2.06-2.06.94zm10 10l.94 2.06.94-2.06 2.06-.94-2.06-.94-.94-2.06-.94 2.06-2.06.94z\"/><path d=\"M17.41 7.96l-1.37-1.37c-.4-.4-.92-.59-1.43-.59-.52 0-1.04.2-1.43.59L10.3 9.45l-7.72 7.72c-.78.78-.78 2.05 0 2.83L4 21.41c.39.39.9.59 1.41.59.51 0 1.02-.2 1.41-.59l7.78-7.78 2.81-2.81c.8-.78.8-2.07 0-2.86zM5.41 20L4 18.59l7.72-7.72 1.47 1.35L5.41 20z\"/>\n",
       "  </svg>\n",
       "      </button>\n",
       "      \n",
       "  <style>\n",
       "    .colab-df-container {\n",
       "      display:flex;\n",
       "      flex-wrap:wrap;\n",
       "      gap: 12px;\n",
       "    }\n",
       "\n",
       "    .colab-df-convert {\n",
       "      background-color: #E8F0FE;\n",
       "      border: none;\n",
       "      border-radius: 50%;\n",
       "      cursor: pointer;\n",
       "      display: none;\n",
       "      fill: #1967D2;\n",
       "      height: 32px;\n",
       "      padding: 0 0 0 0;\n",
       "      width: 32px;\n",
       "    }\n",
       "\n",
       "    .colab-df-convert:hover {\n",
       "      background-color: #E2EBFA;\n",
       "      box-shadow: 0px 1px 2px rgba(60, 64, 67, 0.3), 0px 1px 3px 1px rgba(60, 64, 67, 0.15);\n",
       "      fill: #174EA6;\n",
       "    }\n",
       "\n",
       "    [theme=dark] .colab-df-convert {\n",
       "      background-color: #3B4455;\n",
       "      fill: #D2E3FC;\n",
       "    }\n",
       "\n",
       "    [theme=dark] .colab-df-convert:hover {\n",
       "      background-color: #434B5C;\n",
       "      box-shadow: 0px 1px 3px 1px rgba(0, 0, 0, 0.15);\n",
       "      filter: drop-shadow(0px 1px 2px rgba(0, 0, 0, 0.3));\n",
       "      fill: #FFFFFF;\n",
       "    }\n",
       "  </style>\n",
       "\n",
       "      <script>\n",
       "        const buttonEl =\n",
       "          document.querySelector('#df-66ec5d67-7d63-4909-9c70-c7dd2230327c button.colab-df-convert');\n",
       "        buttonEl.style.display =\n",
       "          google.colab.kernel.accessAllowed ? 'block' : 'none';\n",
       "\n",
       "        async function convertToInteractive(key) {\n",
       "          const element = document.querySelector('#df-66ec5d67-7d63-4909-9c70-c7dd2230327c');\n",
       "          const dataTable =\n",
       "            await google.colab.kernel.invokeFunction('convertToInteractive',\n",
       "                                                     [key], {});\n",
       "          if (!dataTable) return;\n",
       "\n",
       "          const docLinkHtml = 'Like what you see? Visit the ' +\n",
       "            '<a target=\"_blank\" href=https://colab.research.google.com/notebooks/data_table.ipynb>data table notebook</a>'\n",
       "            + ' to learn more about interactive tables.';\n",
       "          element.innerHTML = '';\n",
       "          dataTable['output_type'] = 'display_data';\n",
       "          await google.colab.output.renderOutput(dataTable, element);\n",
       "          const docLink = document.createElement('div');\n",
       "          docLink.innerHTML = docLinkHtml;\n",
       "          element.appendChild(docLink);\n",
       "        }\n",
       "      </script>\n",
       "    </div>\n",
       "  </div>\n",
       "  "
      ],
      "text/plain": [
       "  Metodologia Acurácia Precisão Recall F1-Score\n",
       "0     Simples     0.84     0.94   0.66     0.77"
      ]
     },
     "execution_count": 10,
     "metadata": {},
     "output_type": "execute_result"
    }
   ],
   "source": [
    "# Cálculo da acurácia\n",
    "acc_knn = accuracy_score(y_test,y_pred)\n",
    "\n",
    "# Cálculo da Precisão\n",
    "precision_knn = precision_score(y_test, y_pred)\n",
    "\n",
    "# Cálculo do Recall\n",
    "recall_knn = recall_score(y_test, y_pred)\n",
    "\n",
    "# Cálculo do F1-score\n",
    "f1_knn = 2 * (precision_knn * recall_knn) / (precision_knn + recall_knn)\n",
    "\n",
    "# Armazenar os valores das métricas no Dataframe\n",
    "df_score.at[0,'Metodologia'] = \"Simples\"\n",
    "df_score.at[0,'Acurácia'] = acc_knn\n",
    "df_score.at[0,'Precisão'] = precision_knn\n",
    "df_score.at[0,'Recall'] = recall_knn\n",
    "df_score.at[0,'F1-Score'] = f1_knn\n",
    "\n",
    "# Eibir as métricas\n",
    "df_score"
   ]
  },
  {
   "cell_type": "code",
   "execution_count": 11,
   "metadata": {
    "colab": {
     "base_uri": "https://localhost:8080/",
     "height": 487
    },
    "id": "4299ztb8ArKq",
    "outputId": "06509ff5-c5f0-4510-b264-274b465d40a4"
   },
   "outputs": [
    {
     "data": {
      "image/png": "[encoded data removed]",
      "text/plain": [
       "<Figure size 640x480 with 2 Axes>"
      ]
     },
     "metadata": {},
     "output_type": "display_data"
    }
   ],
   "source": [
    "# Calcular a Matriz de Confusão\n",
    "cm = confusion_matrix(y_test, y_pred)\n",
    "\n",
    "# Nome das classes de classificação da Matriz de Confusão\n",
    "class_names = ['Positivo', 'Negativo']\n",
    "\n",
    "# Criar um display para Matriz de Confusão\n",
    "disp_1 = ConfusionMatrixDisplay(confusion_matrix=cm, display_labels=class_names)\n",
    "\n",
    "# Plotar a Matriz de Confusão com variações de cores azuis\n",
    "disp_1.plot(cmap=plt.cm.Blues)\n",
    "\n",
    "# Alterar os rótulos dos eixos da Matriz de Confusão\n",
    "disp_1.ax_.set(xlabel='Previsto', ylabel='Real')\n",
    "\n",
    "# Entitular a Matriz de Confusão\n",
    "plt.title('Matriz de Confusão')\n",
    "\n",
    "plt.tight_layout()\n",
    "\n",
    "# Exibir a Matriz de Confusão\n",
    "plt.show()"
   ]
  },
  {
   "cell_type": "markdown",
   "metadata": {
    "id": "eU3s7E5wEm0D"
   },
   "source": [
    "**6.** Repita todo o processo dos itens 1 até 5 utilizando o método de Seleção de Features por limiar de variância,\n",
    "considerando o limiar de 35%."
   ]
  },
  {
   "cell_type": "markdown",
   "metadata": {
    "id": "JdMsNursNCTA"
   },
   "source": [
    "*   **1.** Utilize o dataset ionosphere presente na pasta datasets para realizar uma tarefa de classificação binária. **(Este item não carece repetir)**\n",
    "\n",
    "*   **2.** Separe os dados de entrada e saída considerando que a coluna de índice 34 corresponde ao label dos dados\n",
    "de cada linha. **(Este item não carece repetir)**"
   ]
  },
  {
   "cell_type": "code",
   "execution_count": 12,
   "metadata": {
    "colab": {
     "base_uri": "https://localhost:8080/"
    },
    "id": "AME7Af0eEn5E",
    "outputId": "0858e198-cb98-4908-9f2e-de3bcabde9a7"
   },
   "outputs": [
    {
     "name": "stdout",
     "output_type": "stream",
     "text": [
      "Formato dos dados Originais: (351, 34)\n",
      "Formato dos dados após a seleção de features: (351, 6)\n"
     ]
    }
   ],
   "source": [
    "# Estabelecer o limiar de variância\n",
    "limiar_de_variancia = 0.35\n",
    "\n",
    "# Criar o modelo de seleção de features\n",
    "selecao = VarianceThreshold(threshold = limiar_de_variancia)\n",
    "\n",
    "# Selecionar as features\n",
    "features_selecionadas = selecao.fit_transform(X)\n",
    "\n",
    "# Verificar a estrutura dos dados selecionados\n",
    "print(\"Formato dos dados Originais:\", np.shape(X))\n",
    "print(\"Formato dos dados após a seleção de features:\", np.shape(features_selecionadas))"
   ]
  },
  {
   "cell_type": "markdown",
   "metadata": {
    "id": "x-EPEwnKNLhH"
   },
   "source": [
    "**3.** Separe os dados em dados de treinamento e teste utilizando a proporção 70% e 30%, respectivamente, e\n",
    "random state = 0."
   ]
  },
  {
   "cell_type": "code",
   "execution_count": 13,
   "metadata": {
    "id": "YPAn1LulMrBg"
   },
   "outputs": [],
   "source": [
    "# Separar os dados em treinamento e teste\n",
    "X_train, X_test, y_train, y_test = train_test_split(features_selecionadas, Y, test_size = 0.3, random_state = 0)"
   ]
  },
  {
   "cell_type": "markdown",
   "metadata": {
    "id": "6-uYLh01NYkH"
   },
   "source": [
    "**4.** Estabeleça arbitrariamente o número de vizinhos k = 5, inicialmente."
   ]
  },
  {
   "cell_type": "code",
   "execution_count": 14,
   "metadata": {
    "colab": {
     "base_uri": "https://localhost:8080/",
     "height": 75
    },
    "id": "AabRnD6iM7TY",
    "outputId": "c5a8e113-ea20-4bce-a864-abe2736e2e08"
   },
   "outputs": [
    {
     "data": {
      "text/html": [
       "<style>#sk-container-id-2 {color: black;background-color: white;}#sk-container-id-2 pre{padding: 0;}#sk-container-id-2 div.sk-toggleable {background-color: white;}#sk-container-id-2 label.sk-toggleable__label {cursor: pointer;display: block;width: 100%;margin-bottom: 0;padding: 0.3em;box-sizing: border-box;text-align: center;}#sk-container-id-2 label.sk-toggleable__label-arrow:before {content: \"▸\";float: left;margin-right: 0.25em;color: #696969;}#sk-container-id-2 label.sk-toggleable__label-arrow:hover:before {color: black;}#sk-container-id-2 div.sk-estimator:hover label.sk-toggleable__label-arrow:before {color: black;}#sk-container-id-2 div.sk-toggleable__content {max-height: 0;max-width: 0;overflow: hidden;text-align: left;background-color: #f0f8ff;}#sk-container-id-2 div.sk-toggleable__content pre {margin: 0.2em;color: black;border-radius: 0.25em;background-color: #f0f8ff;}#sk-container-id-2 input.sk-toggleable__control:checked~div.sk-toggleable__content {max-height: 200px;max-width: 100%;overflow: auto;}#sk-container-id-2 input.sk-toggleable__control:checked~label.sk-toggleable__label-arrow:before {content: \"▾\";}#sk-container-id-2 div.sk-estimator input.sk-toggleable__control:checked~label.sk-toggleable__label {background-color: #d4ebff;}#sk-container-id-2 div.sk-label input.sk-toggleable__control:checked~label.sk-toggleable__label {background-color: #d4ebff;}#sk-container-id-2 input.sk-hidden--visually {border: 0;clip: rect(1px 1px 1px 1px);clip: rect(1px, 1px, 1px, 1px);height: 1px;margin: -1px;overflow: hidden;padding: 0;position: absolute;width: 1px;}#sk-container-id-2 div.sk-estimator {font-family: monospace;background-color: #f0f8ff;border: 1px dotted black;border-radius: 0.25em;box-sizing: border-box;margin-bottom: 0.5em;}#sk-container-id-2 div.sk-estimator:hover {background-color: #d4ebff;}#sk-container-id-2 div.sk-parallel-item::after {content: \"\";width: 100%;border-bottom: 1px solid gray;flex-grow: 1;}#sk-container-id-2 div.sk-label:hover label.sk-toggleable__label {background-color: #d4ebff;}#sk-container-id-2 div.sk-serial::before {content: \"\";position: absolute;border-left: 1px solid gray;box-sizing: border-box;top: 0;bottom: 0;left: 50%;z-index: 0;}#sk-container-id-2 div.sk-serial {display: flex;flex-direction: column;align-items: center;background-color: white;padding-right: 0.2em;padding-left: 0.2em;position: relative;}#sk-container-id-2 div.sk-item {position: relative;z-index: 1;}#sk-container-id-2 div.sk-parallel {display: flex;align-items: stretch;justify-content: center;background-color: white;position: relative;}#sk-container-id-2 div.sk-item::before, #sk-container-id-2 div.sk-parallel-item::before {content: \"\";position: absolute;border-left: 1px solid gray;box-sizing: border-box;top: 0;bottom: 0;left: 50%;z-index: -1;}#sk-container-id-2 div.sk-parallel-item {display: flex;flex-direction: column;z-index: 1;position: relative;background-color: white;}#sk-container-id-2 div.sk-parallel-item:first-child::after {align-self: flex-end;width: 50%;}#sk-container-id-2 div.sk-parallel-item:last-child::after {align-self: flex-start;width: 50%;}#sk-container-id-2 div.sk-parallel-item:only-child::after {width: 0;}#sk-container-id-2 div.sk-dashed-wrapped {border: 1px dashed gray;margin: 0 0.4em 0.5em 0.4em;box-sizing: border-box;padding-bottom: 0.4em;background-color: white;}#sk-container-id-2 div.sk-label label {font-family: monospace;font-weight: bold;display: inline-block;line-height: 1.2em;}#sk-container-id-2 div.sk-label-container {text-align: center;}#sk-container-id-2 div.sk-container {/* jupyter's `normalize.less` sets `[hidden] { display: none; }` but bootstrap.min.css set `[hidden] { display: none !important; }` so we also need the `!important` here to be able to override the default hidden behavior on the sphinx rendered scikit-learn.org. See: https://github.com/scikit-learn/scikit-learn/issues/21755 */display: inline-block !important;position: relative;}#sk-container-id-2 div.sk-text-repr-fallback {display: none;}</style><div id=\"sk-container-id-2\" class=\"sk-top-container\"><div class=\"sk-text-repr-fallback\"><pre>KNeighborsClassifier()</pre><b>In a Jupyter environment, please rerun this cell to show the HTML representation or trust the notebook. <br />On GitHub, the HTML representation is unable to render, please try loading this page with nbviewer.org.</b></div><div class=\"sk-container\" hidden><div class=\"sk-item\"><div class=\"sk-estimator sk-toggleable\"><input class=\"sk-toggleable__control sk-hidden--visually\" id=\"sk-estimator-id-2\" type=\"checkbox\" checked><label for=\"sk-estimator-id-2\" class=\"sk-toggleable__label sk-toggleable__label-arrow\">KNeighborsClassifier</label><div class=\"sk-toggleable__content\"><pre>KNeighborsClassifier()</pre></div></div></div></div></div>"
      ],
      "text/plain": [
       "KNeighborsClassifier()"
      ]
     },
     "execution_count": 14,
     "metadata": {},
     "output_type": "execute_result"
    }
   ],
   "source": [
    "# Definir o número de vizinhos\n",
    "k = 5\n",
    "\n",
    "# Criação do modelo\n",
    "knn = KNeighborsClassifier(n_neighbors=k)\n",
    "\n",
    "# Treinamento\n",
    "knn.fit(X_train,y_train)"
   ]
  },
  {
   "cell_type": "code",
   "execution_count": 15,
   "metadata": {
    "id": "4O5EZkuPNhsg"
   },
   "outputs": [],
   "source": [
    "# Teste\n",
    "y_pred = knn.predict(X_test)"
   ]
  },
  {
   "cell_type": "markdown",
   "metadata": {
    "id": "wltPhyJLNmzH"
   },
   "source": [
    "**5.** Realize a classificação e obtenha os seguintes resultados:\n",
    "\n",
    "**(a)** Acurácia.\n",
    "\n",
    "**(b)** Precisão.\n",
    "\n",
    "**(c)** Recall.\n",
    "\n",
    "**(d)** F1-Score.\n",
    "\n",
    "**(e)** Plote a matriz de confusão obtida."
   ]
  },
  {
   "cell_type": "code",
   "execution_count": 16,
   "metadata": {
    "colab": {
     "base_uri": "https://localhost:8080/",
     "height": 112
    },
    "id": "VH5MbgAXNswf",
    "outputId": "eb482748-ac0b-4829-e32d-933642748da4"
   },
   "outputs": [
    {
     "data": {
      "text/html": [
       "\n",
       "  <div id=\"df-892cca92-7976-4eac-b74c-5419cc732092\">\n",
       "    <div class=\"colab-df-container\">\n",
       "      <div>\n",
       "<style scoped>\n",
       "    .dataframe tbody tr th:only-of-type {\n",
       "        vertical-align: middle;\n",
       "    }\n",
       "\n",
       "    .dataframe tbody tr th {\n",
       "        vertical-align: top;\n",
       "    }\n",
       "\n",
       "    .dataframe thead th {\n",
       "        text-align: right;\n",
       "    }\n",
       "</style>\n",
       "<table border=\"1\" class=\"dataframe\">\n",
       "  <thead>\n",
       "    <tr style=\"text-align: right;\">\n",
       "      <th></th>\n",
       "      <th>Metodologia</th>\n",
       "      <th>Acurácia</th>\n",
       "      <th>Precisão</th>\n",
       "      <th>Recall</th>\n",
       "      <th>F1-Score</th>\n",
       "    </tr>\n",
       "  </thead>\n",
       "  <tbody>\n",
       "    <tr>\n",
       "      <th>0</th>\n",
       "      <td>Simples</td>\n",
       "      <td>0.84</td>\n",
       "      <td>0.94</td>\n",
       "      <td>0.66</td>\n",
       "      <td>0.77</td>\n",
       "    </tr>\n",
       "    <tr>\n",
       "      <th>1</th>\n",
       "      <td>Com seleção de Features por limiar de variância</td>\n",
       "      <td>0.81</td>\n",
       "      <td>0.90</td>\n",
       "      <td>0.61</td>\n",
       "      <td>0.73</td>\n",
       "    </tr>\n",
       "  </tbody>\n",
       "</table>\n",
       "</div>\n",
       "      <button class=\"colab-df-convert\" onclick=\"convertToInteractive('df-892cca92-7976-4eac-b74c-5419cc732092')\"\n",
       "              title=\"Convert this dataframe to an interactive table.\"\n",
       "              style=\"display:none;\">\n",
       "        \n",
       "  <svg xmlns=\"http://www.w3.org/2000/svg\" height=\"24px\"viewBox=\"0 0 24 24\"\n",
       "       width=\"24px\">\n",
       "    <path d=\"M0 0h24v24H0V0z\" fill=\"none\"/>\n",
       "    <path d=\"M18.56 5.44l.94 2.06.94-2.06 2.06-.94-2.06-.94-.94-2.06-.94 2.06-2.06.94zm-11 1L8.5 8.5l.94-2.06 2.06-.94-2.06-.94L8.5 2.5l-.94 2.06-2.06.94zm10 10l.94 2.06.94-2.06 2.06-.94-2.06-.94-.94-2.06-.94 2.06-2.06.94z\"/><path d=\"M17.41 7.96l-1.37-1.37c-.4-.4-.92-.59-1.43-.59-.52 0-1.04.2-1.43.59L10.3 9.45l-7.72 7.72c-.78.78-.78 2.05 0 2.83L4 21.41c.39.39.9.59 1.41.59.51 0 1.02-.2 1.41-.59l7.78-7.78 2.81-2.81c.8-.78.8-2.07 0-2.86zM5.41 20L4 18.59l7.72-7.72 1.47 1.35L5.41 20z\"/>\n",
       "  </svg>\n",
       "      </button>\n",
       "      \n",
       "  <style>\n",
       "    .colab-df-container {\n",
       "      display:flex;\n",
       "      flex-wrap:wrap;\n",
       "      gap: 12px;\n",
       "    }\n",
       "\n",
       "    .colab-df-convert {\n",
       "      background-color: #E8F0FE;\n",
       "      border: none;\n",
       "      border-radius: 50%;\n",
       "      cursor: pointer;\n",
       "      display: none;\n",
       "      fill: #1967D2;\n",
       "      height: 32px;\n",
       "      padding: 0 0 0 0;\n",
       "      width: 32px;\n",
       "    }\n",
       "\n",
       "    .colab-df-convert:hover {\n",
       "      background-color: #E2EBFA;\n",
       "      box-shadow: 0px 1px 2px rgba(60, 64, 67, 0.3), 0px 1px 3px 1px rgba(60, 64, 67, 0.15);\n",
       "      fill: #174EA6;\n",
       "    }\n",
       "\n",
       "    [theme=dark] .colab-df-convert {\n",
       "      background-color: #3B4455;\n",
       "      fill: #D2E3FC;\n",
       "    }\n",
       "\n",
       "    [theme=dark] .colab-df-convert:hover {\n",
       "      background-color: #434B5C;\n",
       "      box-shadow: 0px 1px 3px 1px rgba(0, 0, 0, 0.15);\n",
       "      filter: drop-shadow(0px 1px 2px rgba(0, 0, 0, 0.3));\n",
       "      fill: #FFFFFF;\n",
       "    }\n",
       "  </style>\n",
       "\n",
       "      <script>\n",
       "        const buttonEl =\n",
       "          document.querySelector('#df-892cca92-7976-4eac-b74c-5419cc732092 button.colab-df-convert');\n",
       "        buttonEl.style.display =\n",
       "          google.colab.kernel.accessAllowed ? 'block' : 'none';\n",
       "\n",
       "        async function convertToInteractive(key) {\n",
       "          const element = document.querySelector('#df-892cca92-7976-4eac-b74c-5419cc732092');\n",
       "          const dataTable =\n",
       "            await google.colab.kernel.invokeFunction('convertToInteractive',\n",
       "                                                     [key], {});\n",
       "          if (!dataTable) return;\n",
       "\n",
       "          const docLinkHtml = 'Like what you see? Visit the ' +\n",
       "            '<a target=\"_blank\" href=https://colab.research.google.com/notebooks/data_table.ipynb>data table notebook</a>'\n",
       "            + ' to learn more about interactive tables.';\n",
       "          element.innerHTML = '';\n",
       "          dataTable['output_type'] = 'display_data';\n",
       "          await google.colab.output.renderOutput(dataTable, element);\n",
       "          const docLink = document.createElement('div');\n",
       "          docLink.innerHTML = docLinkHtml;\n",
       "          element.appendChild(docLink);\n",
       "        }\n",
       "      </script>\n",
       "    </div>\n",
       "  </div>\n",
       "  "
      ],
      "text/plain": [
       "                                       Metodologia Acurácia Precisão Recall  \\\n",
       "0                                          Simples     0.84     0.94   0.66   \n",
       "1  Com seleção de Features por limiar de variância     0.81     0.90   0.61   \n",
       "\n",
       "  F1-Score  \n",
       "0     0.77  \n",
       "1     0.73  "
      ]
     },
     "execution_count": 16,
     "metadata": {},
     "output_type": "execute_result"
    }
   ],
   "source": [
    "# Cálculo da acurácia\n",
    "acc_knn = accuracy_score(y_test,y_pred)\n",
    "\n",
    "# Cálculo da Precisão\n",
    "precision_knn = precision_score(y_test, y_pred)\n",
    "\n",
    "# Cálculo do Recall\n",
    "recall_knn = recall_score(y_test, y_pred)\n",
    "\n",
    "# Cálculo do F1-score\n",
    "f1_knn = 2 * (precision_knn * recall_knn) / (precision_knn + recall_knn)\n",
    "\n",
    "# Armazenar os valores das métricas no Dataframe\n",
    "df_score.at[1,'Metodologia'] = \"Com seleção de Features por limiar de variância\"\n",
    "df_score.at[1,'Acurácia'] = acc_knn\n",
    "df_score.at[1,'Precisão'] = precision_knn\n",
    "df_score.at[1,'Recall'] = recall_knn\n",
    "df_score.at[1,'F1-Score'] = f1_knn\n",
    "\n",
    "# Exibir as métricas\n",
    "df_score"
   ]
  },
  {
   "cell_type": "code",
   "execution_count": 17,
   "metadata": {
    "colab": {
     "base_uri": "https://localhost:8080/",
     "height": 472
    },
    "id": "hz3JgjdUN29m",
    "outputId": "22d80613-6b01-4eac-a309-669eb3a70073"
   },
   "outputs": [
    {
     "data": {
      "image/png": "[encoded data removed]",
      "text/plain": [
       "<Figure size 640x480 with 2 Axes>"
      ]
     },
     "metadata": {},
     "output_type": "display_data"
    }
   ],
   "source": [
    "# Calcular a Matriz de Confusão\n",
    "cm = confusion_matrix(y_test, y_pred)\n",
    "\n",
    "# Nome das classes de classificação da Matriz de Confusão\n",
    "class_names = ['Positivo', 'Negativo']\n",
    "\n",
    "# Criar um display para Matriz de Confusão\n",
    "disp_2 = ConfusionMatrixDisplay(confusion_matrix=cm, display_labels=class_names)\n",
    "\n",
    "# Plotar a Matriz de Confusão com variações de cores azuis\n",
    "disp_2.plot(cmap=plt.cm.Blues)\n",
    "\n",
    "# Alterar os rótulos dos eixos da Matriz de Confusão\n",
    "disp_2.ax_.set(xlabel='Previsto', ylabel='Real')\n",
    "\n",
    "# Entitular a Matriz de Confusão\n",
    "plt.title('Matriz de Confusão')\n",
    "\n",
    "# Exibir a Matriz de Confusão\n",
    "plt.show()"
   ]
  },
  {
   "cell_type": "markdown",
   "metadata": {
    "id": "ZP0BA_tXEtrF"
   },
   "source": [
    "**7.** Repita todo o processo itens 1 até 5 utilizando o método de Extração de Features por Análise de Componentes\n",
    "Principais (PCA), considerando a porcentagem de informação a sermantida no prolema de 85%."
   ]
  },
  {
   "cell_type": "markdown",
   "metadata": {
    "id": "yZXP3la1F5Ll"
   },
   "source": [
    "*   **1.** Utilize o dataset ionosphere presente na pasta datasets para realizar uma tarefa de classificação binária. **(Este item não carece repetir)**\n",
    "\n",
    "*   **2.** Separe os dados de entrada e saída considerando que a coluna de índice 34 corresponde ao label dos dados\n",
    "de cada linha. **(Este item não carece repetir)**"
   ]
  },
  {
   "cell_type": "code",
   "execution_count": 18,
   "metadata": {
    "colab": {
     "base_uri": "https://localhost:8080/"
    },
    "id": "xIaug55WEsYU",
    "outputId": "f1ec4dfa-776d-486a-fff7-bb9fa8454c5f"
   },
   "outputs": [
    {
     "data": {
      "text/plain": [
       "86.14680276915536"
      ]
     },
     "execution_count": 18,
     "metadata": {},
     "output_type": "execute_result"
    }
   ],
   "source": [
    "# Realizar o PCA entre as features\n",
    "pca = PCA(n_components=15)\n",
    "components = pca.fit_transform(X)\n",
    "total_var = pca.explained_variance_ratio_.sum()*100\n",
    "total_var"
   ]
  },
  {
   "cell_type": "markdown",
   "metadata": {
    "id": "6SE_G2ZKNRfo"
   },
   "source": [
    "**3.** Separe os dados em dados de treinamento e teste utilizando a proporção 70% e 30%, respectivamente, e\n",
    "random state = 0."
   ]
  },
  {
   "cell_type": "code",
   "execution_count": 19,
   "metadata": {
    "id": "tqBvt-wNFRMz"
   },
   "outputs": [],
   "source": [
    "# Separar os dados em treinamento e teste\n",
    "X_train, X_test, y_train, y_test = train_test_split(components, Y, test_size = 0.3, random_state = 0)"
   ]
  },
  {
   "cell_type": "markdown",
   "metadata": {
    "id": "ojgsT0rlHA_K"
   },
   "source": [
    "**4.** Estabeleça arbitrariamente o número de vizinhos k = 5, inicialmente."
   ]
  },
  {
   "cell_type": "code",
   "execution_count": 20,
   "metadata": {
    "colab": {
     "base_uri": "https://localhost:8080/",
     "height": 75
    },
    "id": "8JHRC59_Hd_i",
    "outputId": "a6ad6e5c-58b5-424d-f6ce-b4594892c99b"
   },
   "outputs": [
    {
     "data": {
      "text/html": [
       "<style>#sk-container-id-3 {color: black;background-color: white;}#sk-container-id-3 pre{padding: 0;}#sk-container-id-3 div.sk-toggleable {background-color: white;}#sk-container-id-3 label.sk-toggleable__label {cursor: pointer;display: block;width: 100%;margin-bottom: 0;padding: 0.3em;box-sizing: border-box;text-align: center;}#sk-container-id-3 label.sk-toggleable__label-arrow:before {content: \"▸\";float: left;margin-right: 0.25em;color: #696969;}#sk-container-id-3 label.sk-toggleable__label-arrow:hover:before {color: black;}#sk-container-id-3 div.sk-estimator:hover label.sk-toggleable__label-arrow:before {color: black;}#sk-container-id-3 div.sk-toggleable__content {max-height: 0;max-width: 0;overflow: hidden;text-align: left;background-color: #f0f8ff;}#sk-container-id-3 div.sk-toggleable__content pre {margin: 0.2em;color: black;border-radius: 0.25em;background-color: #f0f8ff;}#sk-container-id-3 input.sk-toggleable__control:checked~div.sk-toggleable__content {max-height: 200px;max-width: 100%;overflow: auto;}#sk-container-id-3 input.sk-toggleable__control:checked~label.sk-toggleable__label-arrow:before {content: \"▾\";}#sk-container-id-3 div.sk-estimator input.sk-toggleable__control:checked~label.sk-toggleable__label {background-color: #d4ebff;}#sk-container-id-3 div.sk-label input.sk-toggleable__control:checked~label.sk-toggleable__label {background-color: #d4ebff;}#sk-container-id-3 input.sk-hidden--visually {border: 0;clip: rect(1px 1px 1px 1px);clip: rect(1px, 1px, 1px, 1px);height: 1px;margin: -1px;overflow: hidden;padding: 0;position: absolute;width: 1px;}#sk-container-id-3 div.sk-estimator {font-family: monospace;background-color: #f0f8ff;border: 1px dotted black;border-radius: 0.25em;box-sizing: border-box;margin-bottom: 0.5em;}#sk-container-id-3 div.sk-estimator:hover {background-color: #d4ebff;}#sk-container-id-3 div.sk-parallel-item::after {content: \"\";width: 100%;border-bottom: 1px solid gray;flex-grow: 1;}#sk-container-id-3 div.sk-label:hover label.sk-toggleable__label {background-color: #d4ebff;}#sk-container-id-3 div.sk-serial::before {content: \"\";position: absolute;border-left: 1px solid gray;box-sizing: border-box;top: 0;bottom: 0;left: 50%;z-index: 0;}#sk-container-id-3 div.sk-serial {display: flex;flex-direction: column;align-items: center;background-color: white;padding-right: 0.2em;padding-left: 0.2em;position: relative;}#sk-container-id-3 div.sk-item {position: relative;z-index: 1;}#sk-container-id-3 div.sk-parallel {display: flex;align-items: stretch;justify-content: center;background-color: white;position: relative;}#sk-container-id-3 div.sk-item::before, #sk-container-id-3 div.sk-parallel-item::before {content: \"\";position: absolute;border-left: 1px solid gray;box-sizing: border-box;top: 0;bottom: 0;left: 50%;z-index: -1;}#sk-container-id-3 div.sk-parallel-item {display: flex;flex-direction: column;z-index: 1;position: relative;background-color: white;}#sk-container-id-3 div.sk-parallel-item:first-child::after {align-self: flex-end;width: 50%;}#sk-container-id-3 div.sk-parallel-item:last-child::after {align-self: flex-start;width: 50%;}#sk-container-id-3 div.sk-parallel-item:only-child::after {width: 0;}#sk-container-id-3 div.sk-dashed-wrapped {border: 1px dashed gray;margin: 0 0.4em 0.5em 0.4em;box-sizing: border-box;padding-bottom: 0.4em;background-color: white;}#sk-container-id-3 div.sk-label label {font-family: monospace;font-weight: bold;display: inline-block;line-height: 1.2em;}#sk-container-id-3 div.sk-label-container {text-align: center;}#sk-container-id-3 div.sk-container {/* jupyter's `normalize.less` sets `[hidden] { display: none; }` but bootstrap.min.css set `[hidden] { display: none !important; }` so we also need the `!important` here to be able to override the default hidden behavior on the sphinx rendered scikit-learn.org. See: https://github.com/scikit-learn/scikit-learn/issues/21755 */display: inline-block !important;position: relative;}#sk-container-id-3 div.sk-text-repr-fallback {display: none;}</style><div id=\"sk-container-id-3\" class=\"sk-top-container\"><div class=\"sk-text-repr-fallback\"><pre>KNeighborsClassifier()</pre><b>In a Jupyter environment, please rerun this cell to show the HTML representation or trust the notebook. <br />On GitHub, the HTML representation is unable to render, please try loading this page with nbviewer.org.</b></div><div class=\"sk-container\" hidden><div class=\"sk-item\"><div class=\"sk-estimator sk-toggleable\"><input class=\"sk-toggleable__control sk-hidden--visually\" id=\"sk-estimator-id-3\" type=\"checkbox\" checked><label for=\"sk-estimator-id-3\" class=\"sk-toggleable__label sk-toggleable__label-arrow\">KNeighborsClassifier</label><div class=\"sk-toggleable__content\"><pre>KNeighborsClassifier()</pre></div></div></div></div></div>"
      ],
      "text/plain": [
       "KNeighborsClassifier()"
      ]
     },
     "execution_count": 20,
     "metadata": {},
     "output_type": "execute_result"
    }
   ],
   "source": [
    "# Definir o número de vizinhos\n",
    "k = 5\n",
    "\n",
    "# Criação do modelo\n",
    "knn = KNeighborsClassifier(n_neighbors=k)\n",
    "\n",
    "# Treinamento\n",
    "knn.fit(X_train,y_train)"
   ]
  },
  {
   "cell_type": "code",
   "execution_count": 21,
   "metadata": {
    "id": "8x1jWcuvHh9q"
   },
   "outputs": [],
   "source": [
    "# Teste\n",
    "y_pred = knn.predict(X_test)"
   ]
  },
  {
   "cell_type": "markdown",
   "metadata": {
    "id": "x1i3GS4jHtBi"
   },
   "source": [
    "**5.** Realize a classificação e obtenha os seguintes resultados:\n",
    "\n",
    "**(a)** Acurácia.\n",
    "\n",
    "**(b)** Precisão.\n",
    "\n",
    "**(c)** Recall.\n",
    "\n",
    "**(d)** F1-Score.\n",
    "\n",
    "**(e)** Plote a matriz de confusão obtida."
   ]
  },
  {
   "cell_type": "code",
   "execution_count": 22,
   "metadata": {
    "colab": {
     "base_uri": "https://localhost:8080/",
     "height": 143
    },
    "id": "qM4wWvmFHuKq",
    "outputId": "9bac03fe-c8be-4e9a-9724-8aa374230d11"
   },
   "outputs": [
    {
     "data": {
      "text/html": [
       "\n",
       "  <div id=\"df-687df800-a39a-46db-a0f7-ab1b51e934a7\">\n",
       "    <div class=\"colab-df-container\">\n",
       "      <div>\n",
       "<style scoped>\n",
       "    .dataframe tbody tr th:only-of-type {\n",
       "        vertical-align: middle;\n",
       "    }\n",
       "\n",
       "    .dataframe tbody tr th {\n",
       "        vertical-align: top;\n",
       "    }\n",
       "\n",
       "    .dataframe thead th {\n",
       "        text-align: right;\n",
       "    }\n",
       "</style>\n",
       "<table border=\"1\" class=\"dataframe\">\n",
       "  <thead>\n",
       "    <tr style=\"text-align: right;\">\n",
       "      <th></th>\n",
       "      <th>Metodologia</th>\n",
       "      <th>Acurácia</th>\n",
       "      <th>Precisão</th>\n",
       "      <th>Recall</th>\n",
       "      <th>F1-Score</th>\n",
       "    </tr>\n",
       "  </thead>\n",
       "  <tbody>\n",
       "    <tr>\n",
       "      <th>0</th>\n",
       "      <td>Simples</td>\n",
       "      <td>0.84</td>\n",
       "      <td>0.94</td>\n",
       "      <td>0.66</td>\n",
       "      <td>0.77</td>\n",
       "    </tr>\n",
       "    <tr>\n",
       "      <th>1</th>\n",
       "      <td>Com seleção de Features por limiar de variância</td>\n",
       "      <td>0.81</td>\n",
       "      <td>0.90</td>\n",
       "      <td>0.61</td>\n",
       "      <td>0.73</td>\n",
       "    </tr>\n",
       "    <tr>\n",
       "      <th>2</th>\n",
       "      <td>Com PCA</td>\n",
       "      <td>0.87</td>\n",
       "      <td>0.94</td>\n",
       "      <td>0.73</td>\n",
       "      <td>0.82</td>\n",
       "    </tr>\n",
       "  </tbody>\n",
       "</table>\n",
       "</div>\n",
       "      <button class=\"colab-df-convert\" onclick=\"convertToInteractive('df-687df800-a39a-46db-a0f7-ab1b51e934a7')\"\n",
       "              title=\"Convert this dataframe to an interactive table.\"\n",
       "              style=\"display:none;\">\n",
       "        \n",
       "  <svg xmlns=\"http://www.w3.org/2000/svg\" height=\"24px\"viewBox=\"0 0 24 24\"\n",
       "       width=\"24px\">\n",
       "    <path d=\"M0 0h24v24H0V0z\" fill=\"none\"/>\n",
       "    <path d=\"M18.56 5.44l.94 2.06.94-2.06 2.06-.94-2.06-.94-.94-2.06-.94 2.06-2.06.94zm-11 1L8.5 8.5l.94-2.06 2.06-.94-2.06-.94L8.5 2.5l-.94 2.06-2.06.94zm10 10l.94 2.06.94-2.06 2.06-.94-2.06-.94-.94-2.06-.94 2.06-2.06.94z\"/><path d=\"M17.41 7.96l-1.37-1.37c-.4-.4-.92-.59-1.43-.59-.52 0-1.04.2-1.43.59L10.3 9.45l-7.72 7.72c-.78.78-.78 2.05 0 2.83L4 21.41c.39.39.9.59 1.41.59.51 0 1.02-.2 1.41-.59l7.78-7.78 2.81-2.81c.8-.78.8-2.07 0-2.86zM5.41 20L4 18.59l7.72-7.72 1.47 1.35L5.41 20z\"/>\n",
       "  </svg>\n",
       "      </button>\n",
       "      \n",
       "  <style>\n",
       "    .colab-df-container {\n",
       "      display:flex;\n",
       "      flex-wrap:wrap;\n",
       "      gap: 12px;\n",
       "    }\n",
       "\n",
       "    .colab-df-convert {\n",
       "      background-color: #E8F0FE;\n",
       "      border: none;\n",
       "      border-radius: 50%;\n",
       "      cursor: pointer;\n",
       "      display: none;\n",
       "      fill: #1967D2;\n",
       "      height: 32px;\n",
       "      padding: 0 0 0 0;\n",
       "      width: 32px;\n",
       "    }\n",
       "\n",
       "    .colab-df-convert:hover {\n",
       "      background-color: #E2EBFA;\n",
       "      box-shadow: 0px 1px 2px rgba(60, 64, 67, 0.3), 0px 1px 3px 1px rgba(60, 64, 67, 0.15);\n",
       "      fill: #174EA6;\n",
       "    }\n",
       "\n",
       "    [theme=dark] .colab-df-convert {\n",
       "      background-color: #3B4455;\n",
       "      fill: #D2E3FC;\n",
       "    }\n",
       "\n",
       "    [theme=dark] .colab-df-convert:hover {\n",
       "      background-color: #434B5C;\n",
       "      box-shadow: 0px 1px 3px 1px rgba(0, 0, 0, 0.15);\n",
       "      filter: drop-shadow(0px 1px 2px rgba(0, 0, 0, 0.3));\n",
       "      fill: #FFFFFF;\n",
       "    }\n",
       "  </style>\n",
       "\n",
       "      <script>\n",
       "        const buttonEl =\n",
       "          document.querySelector('#df-687df800-a39a-46db-a0f7-ab1b51e934a7 button.colab-df-convert');\n",
       "        buttonEl.style.display =\n",
       "          google.colab.kernel.accessAllowed ? 'block' : 'none';\n",
       "\n",
       "        async function convertToInteractive(key) {\n",
       "          const element = document.querySelector('#df-687df800-a39a-46db-a0f7-ab1b51e934a7');\n",
       "          const dataTable =\n",
       "            await google.colab.kernel.invokeFunction('convertToInteractive',\n",
       "                                                     [key], {});\n",
       "          if (!dataTable) return;\n",
       "\n",
       "          const docLinkHtml = 'Like what you see? Visit the ' +\n",
       "            '<a target=\"_blank\" href=https://colab.research.google.com/notebooks/data_table.ipynb>data table notebook</a>'\n",
       "            + ' to learn more about interactive tables.';\n",
       "          element.innerHTML = '';\n",
       "          dataTable['output_type'] = 'display_data';\n",
       "          await google.colab.output.renderOutput(dataTable, element);\n",
       "          const docLink = document.createElement('div');\n",
       "          docLink.innerHTML = docLinkHtml;\n",
       "          element.appendChild(docLink);\n",
       "        }\n",
       "      </script>\n",
       "    </div>\n",
       "  </div>\n",
       "  "
      ],
      "text/plain": [
       "                                       Metodologia Acurácia Precisão Recall  \\\n",
       "0                                          Simples     0.84     0.94   0.66   \n",
       "1  Com seleção de Features por limiar de variância     0.81     0.90   0.61   \n",
       "2                                          Com PCA     0.87     0.94   0.73   \n",
       "\n",
       "  F1-Score  \n",
       "0     0.77  \n",
       "1     0.73  \n",
       "2     0.82  "
      ]
     },
     "execution_count": 22,
     "metadata": {},
     "output_type": "execute_result"
    }
   ],
   "source": [
    "# Cálculo da acurácia\n",
    "acc_knn = accuracy_score(y_test,y_pred)\n",
    "\n",
    "# Cálculo da Precisão\n",
    "precision_knn = precision_score(y_test, y_pred)\n",
    "\n",
    "# Cálculo do Recall\n",
    "recall_knn = recall_score(y_test, y_pred)\n",
    "\n",
    "# Cálculo do F1-score\n",
    "f1_knn = 2 * (precision_knn * recall_knn) / (precision_knn + recall_knn)\n",
    "\n",
    "# Armazenar os valores das métricas no Dataframe\n",
    "df_score.at[2,'Metodologia'] = \"Com PCA\"\n",
    "df_score.at[2,'Acurácia'] = acc_knn\n",
    "df_score.at[2,'Precisão'] = precision_knn\n",
    "df_score.at[2,'Recall'] = recall_knn\n",
    "df_score.at[2,'F1-Score'] = f1_knn\n",
    "\n",
    "# Exibir as métricas\n",
    "df_score"
   ]
  },
  {
   "cell_type": "code",
   "execution_count": 23,
   "metadata": {
    "colab": {
     "base_uri": "https://localhost:8080/",
     "height": 472
    },
    "id": "LyQr0olvH9CD",
    "outputId": "ab2f9bc4-fde1-4409-eedc-22a254f91002"
   },
   "outputs": [
    {
     "data": {
      "image/png": "[encoded data removed]",
      "text/plain": [
       "<Figure size 640x480 with 2 Axes>"
      ]
     },
     "metadata": {},
     "output_type": "display_data"
    }
   ],
   "source": [
    "# Calcular a Matriz de Confusão\n",
    "cm = confusion_matrix(y_test, y_pred)\n",
    "\n",
    "# Nome das classes de classificação da Matriz de Confusão\n",
    "class_names = ['Positivo', 'Negativo']\n",
    "\n",
    "# Criar um display para Matriz de Confusão\n",
    "disp_3 = ConfusionMatrixDisplay(confusion_matrix=cm, display_labels=class_names)\n",
    "\n",
    "# Plotar a Matriz de Confusão com variações de cores azuis\n",
    "disp_3.plot(cmap=plt.cm.Blues)\n",
    "\n",
    "# Alterar os rótulos dos eixos da Matriz de Confusão\n",
    "disp_3.ax_.set(xlabel='Previsto', ylabel='Real')\n",
    "\n",
    "# Entitular a Matriz de Confusão\n",
    "plt.title('Matriz de Confusão')\n",
    "\n",
    "# Exibir a Matriz de Confusão\n",
    "plt.show()"
   ]
  },
  {
   "cell_type": "markdown",
   "metadata": {
    "id": "iJMJsVNcINHs"
   },
   "source": [
    "**8.** Considerando os dados transformados através do uso da PCA, repita todo o processo dos itens 1 a 5, mas aplique a técnica de Validação Cruzada por k-fold para encontrar o número de vizinhos mais próximos ideal para o problema. Considere variar k de 1 até 20, e considere o número de pastas do k-fold (o parâmetro cv da função cross_val_score) igual a 5."
   ]
  },
  {
   "cell_type": "markdown",
   "metadata": {
    "id": "P110xfl_R_W0"
   },
   "source": [
    "*   **1.** Utilize o dataset ionosphere presente na pasta datasets para realizar uma tarefa de classificação binária. **(Este item não carece repetir)**\n",
    "\n",
    "*   **2.** Separe os dados de entrada e saída considerando que a coluna de índice 34 corresponde ao label dos dados\n",
    "de cada linha. **(Este item não carece repetir)**"
   ]
  },
  {
   "cell_type": "code",
   "execution_count": 24,
   "metadata": {
    "id": "WkO9W9AAIl-a"
   },
   "outputs": [],
   "source": [
    "# Vetor de possíveis valores de k\n",
    "k_range = range(1, 20)\n",
    "\n",
    "# Declaração do vetor que armazenará o score do modelo para cada valor de k\n",
    "k_scores = []"
   ]
  },
  {
   "cell_type": "markdown",
   "metadata": {
    "id": "x3S9T9FVSOKV"
   },
   "source": [
    "**3.** Separe os dados em dados de treinamento e teste utilizando a proporção 70% e 30%, respectivamente, e random state = 0."
   ]
  },
  {
   "cell_type": "code",
   "execution_count": 25,
   "metadata": {
    "id": "Pe50MrWDSWwM"
   },
   "outputs": [],
   "source": [
    "# Separacao dos dados em treinamento e teste\n",
    "X_train, X_test, y_train, y_test = train_test_split(components, Y, test_size = 0.3, random_state = 0)"
   ]
  },
  {
   "cell_type": "markdown",
   "metadata": {
    "id": "m4ZoSow_TKOb"
   },
   "source": [
    "**4.** Estabeleça arbitrariamente o número de vizinhos k = 5, inicialmente. **(Neste caso, k deve variar de 1 a 20)**"
   ]
  },
  {
   "cell_type": "code",
   "execution_count": 26,
   "metadata": {
    "id": "nY96jZmXSWcc"
   },
   "outputs": [],
   "source": [
    "# Loop para treinar o modelo para cada valor de k \n",
    "for k in k_range:\n",
    "    knn = KNeighborsClassifier(n_neighbors = k)\n",
    "    scores = cross_val_score(knn, X_train, y_train, cv = 5, scoring = 'accuracy')\n",
    "    k_scores.append(scores.mean())"
   ]
  },
  {
   "cell_type": "code",
   "execution_count": 27,
   "metadata": {
    "colab": {
     "base_uri": "https://localhost:8080/",
     "height": 779
    },
    "id": "819WlnsFT1Uj",
    "outputId": "a5144e80-3e9f-41da-b55c-c25458e453f4"
   },
   "outputs": [
    {
     "name": "stdout",
     "output_type": "stream",
     "text": [
      "k: 1 Acurácia: 90.0\n",
      "k: 2 Acurácia: 83.0\n",
      "k: 3 Acurácia: 87.0\n",
      "k: 4 Acurácia: 84.0\n",
      "k: 5 Acurácia: 86.0\n",
      "k: 6 Acurácia: 84.0\n",
      "k: 7 Acurácia: 86.0\n",
      "k: 8 Acurácia: 84.0\n",
      "k: 9 Acurácia: 84.0\n",
      "k: 10 Acurácia: 84.0\n",
      "k: 11 Acurácia: 84.0\n",
      "k: 12 Acurácia: 84.0\n",
      "k: 13 Acurácia: 84.0\n",
      "k: 14 Acurácia: 84.0\n",
      "k: 15 Acurácia: 84.0\n",
      "k: 16 Acurácia: 82.0\n",
      "k: 17 Acurácia: 83.0\n",
      "k: 18 Acurácia: 82.0\n",
      "k: 19 Acurácia: 83.0\n"
     ]
    },
    {
     "data": {
      "image/png": "[encoded data removed]",
      "text/plain": [
       "<Figure size 640x480 with 1 Axes>"
      ]
     },
     "metadata": {},
     "output_type": "display_data"
    }
   ],
   "source": [
    "# Exibir o score do modelo para cada valor de k\n",
    "for i in range(len(k_scores)):\n",
    "    print(\"k:\", k_range[i],  \"Acurácia:\", round(k_scores[i],2)*100)\n",
    "\n",
    "# Plotar o score do modelo para cada valor de k\n",
    "plt.plot(k_range, k_scores)\n",
    "plt.xlabel('Valores de k para o kNN')\n",
    "plt.ylabel('Acurácia na Validação Cruzada')\n",
    "plt.grid(linestyle = \"dashed\")\n",
    "plt.show()"
   ]
  },
  {
   "cell_type": "code",
   "execution_count": 28,
   "metadata": {
    "id": "qAXg5vz3W9yS"
   },
   "outputs": [],
   "source": [
    "# Criação do modelo com o melhor valor de k\n",
    "knn = KNeighborsClassifier(n_neighbors = np.argmax(k_scores)+1)\n",
    "\n",
    "# Treinamento\n",
    "knn.fit(X_train,y_train)\n",
    "\n",
    "# Teste\n",
    "y_pred = knn.predict(X_test)"
   ]
  },
  {
   "cell_type": "markdown",
   "metadata": {
    "id": "fQvtPgQufEpV"
   },
   "source": [
    "**5.** Realize a classificação e obtenha os seguintes resultados:\n",
    "\n",
    "**(a)** Acurácia.\n",
    "\n",
    "**(b)** Precisão.\n",
    "\n",
    "**(c)** Recall.\n",
    "\n",
    "**(d)** F1-Score.\n",
    "\n",
    "**(e)** Plote a matriz de confusão obtida."
   ]
  },
  {
   "cell_type": "code",
   "execution_count": 29,
   "metadata": {
    "colab": {
     "base_uri": "https://localhost:8080/",
     "height": 175
    },
    "id": "ExUthI5kfHqW",
    "outputId": "1849bd8f-d856-47c3-f90b-f1bfe5de600b"
   },
   "outputs": [
    {
     "data": {
      "text/html": [
       "\n",
       "  <div id=\"df-53af02e7-7db4-40dc-b4ed-acca8e3a6e1f\">\n",
       "    <div class=\"colab-df-container\">\n",
       "      <div>\n",
       "<style scoped>\n",
       "    .dataframe tbody tr th:only-of-type {\n",
       "        vertical-align: middle;\n",
       "    }\n",
       "\n",
       "    .dataframe tbody tr th {\n",
       "        vertical-align: top;\n",
       "    }\n",
       "\n",
       "    .dataframe thead th {\n",
       "        text-align: right;\n",
       "    }\n",
       "</style>\n",
       "<table border=\"1\" class=\"dataframe\">\n",
       "  <thead>\n",
       "    <tr style=\"text-align: right;\">\n",
       "      <th></th>\n",
       "      <th>Metodologia</th>\n",
       "      <th>Acurácia</th>\n",
       "      <th>Precisão</th>\n",
       "      <th>Recall</th>\n",
       "      <th>F1-Score</th>\n",
       "    </tr>\n",
       "  </thead>\n",
       "  <tbody>\n",
       "    <tr>\n",
       "      <th>0</th>\n",
       "      <td>Simples</td>\n",
       "      <td>0.84</td>\n",
       "      <td>0.94</td>\n",
       "      <td>0.66</td>\n",
       "      <td>0.77</td>\n",
       "    </tr>\n",
       "    <tr>\n",
       "      <th>1</th>\n",
       "      <td>Com seleção de Features por limiar de variância</td>\n",
       "      <td>0.81</td>\n",
       "      <td>0.90</td>\n",
       "      <td>0.61</td>\n",
       "      <td>0.73</td>\n",
       "    </tr>\n",
       "    <tr>\n",
       "      <th>2</th>\n",
       "      <td>Com PCA</td>\n",
       "      <td>0.87</td>\n",
       "      <td>0.94</td>\n",
       "      <td>0.73</td>\n",
       "      <td>0.82</td>\n",
       "    </tr>\n",
       "    <tr>\n",
       "      <th>3</th>\n",
       "      <td>Com PCA e com Validação Cruzada por K-fold</td>\n",
       "      <td>0.92</td>\n",
       "      <td>0.97</td>\n",
       "      <td>0.82</td>\n",
       "      <td>0.89</td>\n",
       "    </tr>\n",
       "  </tbody>\n",
       "</table>\n",
       "</div>\n",
       "      <button class=\"colab-df-convert\" onclick=\"convertToInteractive('df-53af02e7-7db4-40dc-b4ed-acca8e3a6e1f')\"\n",
       "              title=\"Convert this dataframe to an interactive table.\"\n",
       "              style=\"display:none;\">\n",
       "        \n",
       "  <svg xmlns=\"http://www.w3.org/2000/svg\" height=\"24px\"viewBox=\"0 0 24 24\"\n",
       "       width=\"24px\">\n",
       "    <path d=\"M0 0h24v24H0V0z\" fill=\"none\"/>\n",
       "    <path d=\"M18.56 5.44l.94 2.06.94-2.06 2.06-.94-2.06-.94-.94-2.06-.94 2.06-2.06.94zm-11 1L8.5 8.5l.94-2.06 2.06-.94-2.06-.94L8.5 2.5l-.94 2.06-2.06.94zm10 10l.94 2.06.94-2.06 2.06-.94-2.06-.94-.94-2.06-.94 2.06-2.06.94z\"/><path d=\"M17.41 7.96l-1.37-1.37c-.4-.4-.92-.59-1.43-.59-.52 0-1.04.2-1.43.59L10.3 9.45l-7.72 7.72c-.78.78-.78 2.05 0 2.83L4 21.41c.39.39.9.59 1.41.59.51 0 1.02-.2 1.41-.59l7.78-7.78 2.81-2.81c.8-.78.8-2.07 0-2.86zM5.41 20L4 18.59l7.72-7.72 1.47 1.35L5.41 20z\"/>\n",
       "  </svg>\n",
       "      </button>\n",
       "      \n",
       "  <style>\n",
       "    .colab-df-container {\n",
       "      display:flex;\n",
       "      flex-wrap:wrap;\n",
       "      gap: 12px;\n",
       "    }\n",
       "\n",
       "    .colab-df-convert {\n",
       "      background-color: #E8F0FE;\n",
       "      border: none;\n",
       "      border-radius: 50%;\n",
       "      cursor: pointer;\n",
       "      display: none;\n",
       "      fill: #1967D2;\n",
       "      height: 32px;\n",
       "      padding: 0 0 0 0;\n",
       "      width: 32px;\n",
       "    }\n",
       "\n",
       "    .colab-df-convert:hover {\n",
       "      background-color: #E2EBFA;\n",
       "      box-shadow: 0px 1px 2px rgba(60, 64, 67, 0.3), 0px 1px 3px 1px rgba(60, 64, 67, 0.15);\n",
       "      fill: #174EA6;\n",
       "    }\n",
       "\n",
       "    [theme=dark] .colab-df-convert {\n",
       "      background-color: #3B4455;\n",
       "      fill: #D2E3FC;\n",
       "    }\n",
       "\n",
       "    [theme=dark] .colab-df-convert:hover {\n",
       "      background-color: #434B5C;\n",
       "      box-shadow: 0px 1px 3px 1px rgba(0, 0, 0, 0.15);\n",
       "      filter: drop-shadow(0px 1px 2px rgba(0, 0, 0, 0.3));\n",
       "      fill: #FFFFFF;\n",
       "    }\n",
       "  </style>\n",
       "\n",
       "      <script>\n",
       "        const buttonEl =\n",
       "          document.querySelector('#df-53af02e7-7db4-40dc-b4ed-acca8e3a6e1f button.colab-df-convert');\n",
       "        buttonEl.style.display =\n",
       "          google.colab.kernel.accessAllowed ? 'block' : 'none';\n",
       "\n",
       "        async function convertToInteractive(key) {\n",
       "          const element = document.querySelector('#df-53af02e7-7db4-40dc-b4ed-acca8e3a6e1f');\n",
       "          const dataTable =\n",
       "            await google.colab.kernel.invokeFunction('convertToInteractive',\n",
       "                                                     [key], {});\n",
       "          if (!dataTable) return;\n",
       "\n",
       "          const docLinkHtml = 'Like what you see? Visit the ' +\n",
       "            '<a target=\"_blank\" href=https://colab.research.google.com/notebooks/data_table.ipynb>data table notebook</a>'\n",
       "            + ' to learn more about interactive tables.';\n",
       "          element.innerHTML = '';\n",
       "          dataTable['output_type'] = 'display_data';\n",
       "          await google.colab.output.renderOutput(dataTable, element);\n",
       "          const docLink = document.createElement('div');\n",
       "          docLink.innerHTML = docLinkHtml;\n",
       "          element.appendChild(docLink);\n",
       "        }\n",
       "      </script>\n",
       "    </div>\n",
       "  </div>\n",
       "  "
      ],
      "text/plain": [
       "                                       Metodologia Acurácia Precisão Recall  \\\n",
       "0                                          Simples     0.84     0.94   0.66   \n",
       "1  Com seleção de Features por limiar de variância     0.81     0.90   0.61   \n",
       "2                                          Com PCA     0.87     0.94   0.73   \n",
       "3       Com PCA e com Validação Cruzada por K-fold     0.92     0.97   0.82   \n",
       "\n",
       "  F1-Score  \n",
       "0     0.77  \n",
       "1     0.73  \n",
       "2     0.82  \n",
       "3     0.89  "
      ]
     },
     "execution_count": 29,
     "metadata": {},
     "output_type": "execute_result"
    }
   ],
   "source": [
    "# Cálculo da acurácia\n",
    "acc_knn = accuracy_score(y_test,y_pred)\n",
    "\n",
    "# Cálculo da Precisão\n",
    "precision_knn = precision_score(y_test, y_pred)\n",
    "\n",
    "# Cálculo do Recall\n",
    "recall_knn = recall_score(y_test, y_pred)\n",
    "\n",
    "# Cálculo do F1-score\n",
    "f1_knn = 2 * (precision_knn * recall_knn) / (precision_knn + recall_knn)\n",
    "\n",
    "df_score.at[3,'Metodologia'] = \"Com PCA e com Validação Cruzada por K-fold\"\n",
    "df_score.at[3,'Acurácia'] = acc_knn\n",
    "df_score.at[3,'Precisão'] = precision_knn\n",
    "df_score.at[3,'Recall'] = recall_knn\n",
    "df_score.at[3,'F1-Score'] = f1_knn\n",
    "\n",
    "# Exibir as métricas\n",
    "df_score"
   ]
  },
  {
   "cell_type": "code",
   "execution_count": 30,
   "metadata": {
    "colab": {
     "base_uri": "https://localhost:8080/",
     "height": 472
    },
    "id": "ry8Ik742JATI",
    "outputId": "310be79f-9161-4823-b1e8-be3797026e93"
   },
   "outputs": [
    {
     "data": {
      "image/png": "[encoded data removed]",
      "text/plain": [
       "<Figure size 640x480 with 2 Axes>"
      ]
     },
     "metadata": {},
     "output_type": "display_data"
    }
   ],
   "source": [
    "# Calcular a Matriz de Confusão\n",
    "cm = confusion_matrix(y_test, y_pred)\n",
    "\n",
    "# Nome das classes de classificação da Matriz de Confusão\n",
    "class_names = ['Positivo', 'Negativo']\n",
    "\n",
    "# Criar um display para Matriz de Confusão\n",
    "disp_4 = ConfusionMatrixDisplay(confusion_matrix=cm, display_labels=class_names)\n",
    "\n",
    "# Plotar a Matriz de Confusão com variações de cores azuis\n",
    "disp_4.plot(cmap='Blues')\n",
    "\n",
    "# Alterar os rótulos dos eixos da Matriz de Confusão\n",
    "disp_4.ax_.set(xlabel='Previsto', ylabel='Real')\n",
    "\n",
    "# Entitular a Matriz de Confusão\n",
    "plt.title('Matriz de Confusão') \n",
    "\n",
    "# Exibir a Matriz de Confusão\n",
    "plt.show()"
   ]
  },
  {
   "cell_type": "markdown",
   "metadata": {
    "id": "9w9VdbWYImpi"
   },
   "source": [
    "**Questão 2)** Compare os resultados obtidos em todos os processos do item anterior e justifique as diferenças obtidas através dos conceitos de engenharia de features estudados durante as aulas síncronas."
   ]
  },
  {
   "cell_type": "markdown",
   "metadata": {
    "id": "XfT2wtrjzXL3"
   },
   "source": [
    "A tabela (Data Frame) a seguir consolida a maioria das métricas obtidas à partir das quatro metodologias estudas anteriormente."
   ]
  },
  {
   "cell_type": "code",
   "execution_count": 31,
   "metadata": {
    "colab": {
     "base_uri": "https://localhost:8080/",
     "height": 175
    },
    "id": "vTBY1qvafm2k",
    "outputId": "e4b14d77-8949-4f41-d158-5aa1f6fbe5d6"
   },
   "outputs": [
    {
     "data": {
      "text/html": [
       "\n",
       "  <div id=\"df-11b019b7-812b-4a73-8416-b63a0da7af34\">\n",
       "    <div class=\"colab-df-container\">\n",
       "      <div>\n",
       "<style scoped>\n",
       "    .dataframe tbody tr th:only-of-type {\n",
       "        vertical-align: middle;\n",
       "    }\n",
       "\n",
       "    .dataframe tbody tr th {\n",
       "        vertical-align: top;\n",
       "    }\n",
       "\n",
       "    .dataframe thead th {\n",
       "        text-align: right;\n",
       "    }\n",
       "</style>\n",
       "<table border=\"1\" class=\"dataframe\">\n",
       "  <thead>\n",
       "    <tr style=\"text-align: right;\">\n",
       "      <th></th>\n",
       "      <th>Metodologia</th>\n",
       "      <th>Acurácia</th>\n",
       "      <th>Precisão</th>\n",
       "      <th>Recall</th>\n",
       "      <th>F1-Score</th>\n",
       "    </tr>\n",
       "  </thead>\n",
       "  <tbody>\n",
       "    <tr>\n",
       "      <th>0</th>\n",
       "      <td>Simples</td>\n",
       "      <td>0.84</td>\n",
       "      <td>0.94</td>\n",
       "      <td>0.66</td>\n",
       "      <td>0.77</td>\n",
       "    </tr>\n",
       "    <tr>\n",
       "      <th>1</th>\n",
       "      <td>Com seleção de Features por limiar de variância</td>\n",
       "      <td>0.81</td>\n",
       "      <td>0.90</td>\n",
       "      <td>0.61</td>\n",
       "      <td>0.73</td>\n",
       "    </tr>\n",
       "    <tr>\n",
       "      <th>2</th>\n",
       "      <td>Com PCA</td>\n",
       "      <td>0.87</td>\n",
       "      <td>0.94</td>\n",
       "      <td>0.73</td>\n",
       "      <td>0.82</td>\n",
       "    </tr>\n",
       "    <tr>\n",
       "      <th>3</th>\n",
       "      <td>Com PCA e com Validação Cruzada por K-fold</td>\n",
       "      <td>0.92</td>\n",
       "      <td>0.97</td>\n",
       "      <td>0.82</td>\n",
       "      <td>0.89</td>\n",
       "    </tr>\n",
       "  </tbody>\n",
       "</table>\n",
       "</div>\n",
       "      <button class=\"colab-df-convert\" onclick=\"convertToInteractive('df-11b019b7-812b-4a73-8416-b63a0da7af34')\"\n",
       "              title=\"Convert this dataframe to an interactive table.\"\n",
       "              style=\"display:none;\">\n",
       "        \n",
       "  <svg xmlns=\"http://www.w3.org/2000/svg\" height=\"24px\"viewBox=\"0 0 24 24\"\n",
       "       width=\"24px\">\n",
       "    <path d=\"M0 0h24v24H0V0z\" fill=\"none\"/>\n",
       "    <path d=\"M18.56 5.44l.94 2.06.94-2.06 2.06-.94-2.06-.94-.94-2.06-.94 2.06-2.06.94zm-11 1L8.5 8.5l.94-2.06 2.06-.94-2.06-.94L8.5 2.5l-.94 2.06-2.06.94zm10 10l.94 2.06.94-2.06 2.06-.94-2.06-.94-.94-2.06-.94 2.06-2.06.94z\"/><path d=\"M17.41 7.96l-1.37-1.37c-.4-.4-.92-.59-1.43-.59-.52 0-1.04.2-1.43.59L10.3 9.45l-7.72 7.72c-.78.78-.78 2.05 0 2.83L4 21.41c.39.39.9.59 1.41.59.51 0 1.02-.2 1.41-.59l7.78-7.78 2.81-2.81c.8-.78.8-2.07 0-2.86zM5.41 20L4 18.59l7.72-7.72 1.47 1.35L5.41 20z\"/>\n",
       "  </svg>\n",
       "      </button>\n",
       "      \n",
       "  <style>\n",
       "    .colab-df-container {\n",
       "      display:flex;\n",
       "      flex-wrap:wrap;\n",
       "      gap: 12px;\n",
       "    }\n",
       "\n",
       "    .colab-df-convert {\n",
       "      background-color: #E8F0FE;\n",
       "      border: none;\n",
       "      border-radius: 50%;\n",
       "      cursor: pointer;\n",
       "      display: none;\n",
       "      fill: #1967D2;\n",
       "      height: 32px;\n",
       "      padding: 0 0 0 0;\n",
       "      width: 32px;\n",
       "    }\n",
       "\n",
       "    .colab-df-convert:hover {\n",
       "      background-color: #E2EBFA;\n",
       "      box-shadow: 0px 1px 2px rgba(60, 64, 67, 0.3), 0px 1px 3px 1px rgba(60, 64, 67, 0.15);\n",
       "      fill: #174EA6;\n",
       "    }\n",
       "\n",
       "    [theme=dark] .colab-df-convert {\n",
       "      background-color: #3B4455;\n",
       "      fill: #D2E3FC;\n",
       "    }\n",
       "\n",
       "    [theme=dark] .colab-df-convert:hover {\n",
       "      background-color: #434B5C;\n",
       "      box-shadow: 0px 1px 3px 1px rgba(0, 0, 0, 0.15);\n",
       "      filter: drop-shadow(0px 1px 2px rgba(0, 0, 0, 0.3));\n",
       "      fill: #FFFFFF;\n",
       "    }\n",
       "  </style>\n",
       "\n",
       "      <script>\n",
       "        const buttonEl =\n",
       "          document.querySelector('#df-11b019b7-812b-4a73-8416-b63a0da7af34 button.colab-df-convert');\n",
       "        buttonEl.style.display =\n",
       "          google.colab.kernel.accessAllowed ? 'block' : 'none';\n",
       "\n",
       "        async function convertToInteractive(key) {\n",
       "          const element = document.querySelector('#df-11b019b7-812b-4a73-8416-b63a0da7af34');\n",
       "          const dataTable =\n",
       "            await google.colab.kernel.invokeFunction('convertToInteractive',\n",
       "                                                     [key], {});\n",
       "          if (!dataTable) return;\n",
       "\n",
       "          const docLinkHtml = 'Like what you see? Visit the ' +\n",
       "            '<a target=\"_blank\" href=https://colab.research.google.com/notebooks/data_table.ipynb>data table notebook</a>'\n",
       "            + ' to learn more about interactive tables.';\n",
       "          element.innerHTML = '';\n",
       "          dataTable['output_type'] = 'display_data';\n",
       "          await google.colab.output.renderOutput(dataTable, element);\n",
       "          const docLink = document.createElement('div');\n",
       "          docLink.innerHTML = docLinkHtml;\n",
       "          element.appendChild(docLink);\n",
       "        }\n",
       "      </script>\n",
       "    </div>\n",
       "  </div>\n",
       "  "
      ],
      "text/plain": [
       "                                       Metodologia Acurácia Precisão Recall  \\\n",
       "0                                          Simples     0.84     0.94   0.66   \n",
       "1  Com seleção de Features por limiar de variância     0.81     0.90   0.61   \n",
       "2                                          Com PCA     0.87     0.94   0.73   \n",
       "3       Com PCA e com Validação Cruzada por K-fold     0.92     0.97   0.82   \n",
       "\n",
       "  F1-Score  \n",
       "0     0.77  \n",
       "1     0.73  \n",
       "2     0.82  \n",
       "3     0.89  "
      ]
     },
     "execution_count": 31,
     "metadata": {},
     "output_type": "execute_result"
    }
   ],
   "source": [
    "# Exibir as métricas\n",
    "df_score"
   ]
  },
  {
   "cell_type": "markdown",
   "metadata": {
    "id": "SqqBGosfJiLC"
   },
   "source": [
    "Com base nesta Tabela, é possível concluir que a metodologia \"KNN com PCA e Validação Cruzada por K-fold\" é a melhor maneira para treinar o algoritmo KNN, pois, de acordo com as métricas, esta metodologia \"entrega\" o melhor resultado. Nesse sentido, convém lembrar os significados conceituais destas métricas.\n",
    "\n",
    "*   Acurácia: medida usada para avaliar a precisão global do modelo. Matematicamente, pode ser calculada da seguinte forma.\n",
    "\n",
    "> **Acurácia** = (Número de previsões corretas) / (Número total de previsões)\n",
    "\n",
    "*   Precisão: mede a proporção de previsões corretas positivas em relação ao total de previsões positivas. É uma métrica útil quando o objetivo é minimizar os falsos positivos. Logo, matematicamente, corresponde ao modelo a seguir.\n",
    "\n",
    "\n",
    "> **Precisão** = (Verdadeiros positivos) / (Verdadeiros positivos + Falsos positivos)\n",
    "\n",
    "*   Recall: também conhecido como revocação ou sensibilidade, mede a proporção de previsões corretas positivas em relação ao total de instâncias verdadeiramente positivas na amostra de dados. Essa métrica é relevante quando o objetivo é minimizar os falsos negativos. Portanto, pode-se calcular esta métrica conforme a equação abaixo.\n",
    "\n",
    "> **Recall** = (Verdadeiros positivos) / (Verdadeiros positivos + Falsos negativos)\n",
    "\n",
    "*   F1-Score: média harmônica entre a precisão e o recall. Ele fornece um equilíbrio entre essas duas métricas e é útil quando há um desequilíbrio entre as classes do conjunto de dados. Matematicamente, é calculado de acordo com a fórmula seguinte.\n",
    "\n",
    "> **F1-Score** = 2 * (Precisão * Recall) / (Precisão + Recall)\n",
    "\n",
    "\n",
    "\n"
   ]
  },
  {
   "cell_type": "markdown",
   "metadata": {
    "id": "E49peqlFdfP-"
   },
   "source": [
    "Além disso, convém analisar as matrizes de confusão. Confira a seguir!"
   ]
  },
  {
   "cell_type": "code",
   "execution_count": 32,
   "metadata": {
    "colab": {
     "base_uri": "https://localhost:8080/",
     "height": 993
    },
    "id": "FJ3YhoVVDo2l",
    "outputId": "93620b54-4249-4b7c-ff27-8e00dbe1e405"
   },
   "outputs": [
    {
     "data": {
      "image/png": "[encoded data removed]",
      "text/plain": [
       "<Figure size 1000x1000 with 8 Axes>"
      ]
     },
     "metadata": {},
     "output_type": "display_data"
    }
   ],
   "source": [
    "# Criar uma estrutura para 4 subplots\n",
    "fig, axes = plt.subplots(2, 2, figsize=(10, 10))\n",
    "\n",
    "# Exibir a matriz de Confusão da metodologia simples\n",
    "disp_1.plot(ax=axes[0, 0], cmap='Blues')\n",
    "# Alterar os rótulos dos eixos da Matriz de Confusão deste subplot\n",
    "disp_1.ax_.set(xlabel='Previsto', ylabel='Real')\n",
    "# Entitular a matriz de Confusão deste subplot\n",
    "axes[0, 0].set_title(\"KNN Simples\")\n",
    "\n",
    "# Exibir a matriz de Confusão da metodologia com seleção de Features por limiar de variância\n",
    "disp_2.plot(ax=axes[0, 1], cmap='Blues')\n",
    "# Alterar os rótulos dos eixos da Matriz de Confusão deste subplot\n",
    "disp_2.ax_.set(xlabel='Previsto', ylabel='Real')\n",
    "# Entitular a matriz de Confusão deste subplot\n",
    "axes[0, 1].set_title(\"KNN com seleção de Features\\n por limiar de variância\")\n",
    "\n",
    "# Exibir a matriz de Confusão da metodologia com PCA\n",
    "disp_3.plot(ax=axes[1, 0], cmap='Blues')\n",
    "# Alterar os rótulos dos eixos da Matriz de Confusão deste subplot\n",
    "disp_3.ax_.set(xlabel='Previsto', ylabel='Real')\n",
    "# Entitular a matriz de Confusão deste subplot\n",
    "axes[1, 0].set_title(\"KNN com PCA\")\n",
    "\n",
    "# Exibir a matriz de Confusão da metodologia com PCA\n",
    "disp_4.plot(ax=axes[1, 1], cmap='Blues')\n",
    "# Alterar os rótulos dos eixos da Matriz de Confusão deste subplot\n",
    "disp_4.ax_.set(xlabel='Previsto', ylabel='Real')\n",
    "# Entitular a matriz de Confusão deste subplot\n",
    "axes[1, 1].set_title(\"KNN com PCA e Validação Cruzada\\n por K-fold\")\n",
    "\n",
    "# Ajustar os espaços entre os subplots\n",
    "plt.tight_layout()\n",
    "\n",
    "# Exibir as matrizes de confusão\n",
    "plt.show()"
   ]
  },
  {
   "cell_type": "markdown",
   "metadata": {
    "id": "PRFVeLfUgICU"
   },
   "source": [
    "Com base nas matrizes de confusão, também, é possível perceber que a metodologia \"KNN com PCA e Validação Cruzada por K-fold\" é a melhor maneira para treinar o algoritmo KNN. De acordo com a matriz de confusão desta metodologia, o algoritmo acertou 61 previsões positivas (verdadeiro positivo) e acertou 36 previsões negativas (vergadeiro negativo) e, com isso, acertou mais que outras metodologias.\n",
    "\n",
    "Consequentemente, foi a metodologia que menos errou, isto é, 8 erros em previsões positivas (falso positivo), e 1 erro em previsão negativa (falso negativo). Diante disso, a matriz de confusão do método \"KNN com PCA e Validação Cruzada por K-fold\" justifica a obtenção dos melhores resultados para as métricas \"Acurácia, Precisão, Recall, e F1-Score\" em comparação as outras metologias deste trabalho.\n",
    "\n",
    "Diante disso, conclui-se que, para este modelo de negócio, o KNN se adapta melhor aos dados com k = 1 e, do ponto de vista de Engenharia de Features, é fundamental o uso de transformação em componentes principais, PCA, pois o dataset original possui 33 features, mas, de acordo com o estudo feito neste trabalho, o algoritmo KNN se adaptou melhor com o uso de 15 componentes principais."
   ]
  }
 ],
 "metadata": {
  "colab": {
   "provenance": []
  },
  "kernelspec": {
   "display_name": "Python 3 (ipykernel)",
   "language": "python",
   "name": "python3"
  },
  "language_info": {
   "codemirror_mode": {
    "name": "ipython",
    "version": 3
   },
   "file_extension": ".py",
   "mimetype": "text/x-python",
   "name": "python",
   "nbconvert_exporter": "python",
   "pygments_lexer": "ipython3",
   "version": "3.9.16"
  }
 },
 "nbformat": 4,
 "nbformat_minor": 1
}
